{
 "cells": [
  {
   "cell_type": "markdown",
   "id": "83c4413f-1b70-4a3c-9654-0a1dbe44fb7d",
   "metadata": {},
   "source": [
    "## UCX-Py Example\n",
    "\n",
    "This example demonstrates how to use the high-level UCX-Py API, providing asynchronous I/O capability. This is the API used by high-level Python libraries and frameworks, such as Dask.\n",
    "\n",
    "The high-level API is responsible for managing UCP context and worker automatically, currently multithreading is not supported. Creating UCP listeners and endpoints are the user's responsibility via `ucp.create_listener` and `ucp.create_endpoint`, respectively.\n",
    "\n",
    "Progressing the UCP worker occurs automatically and is transparent to the user. Upon initialization, UCX-Py will create an asynchronous progress task that will be continuously executed on each iterations of the Python's asyncio event loop. Two progress modes are supported:\n",
    "\n",
    "1. Blocking (default): the UCP worker delivers a file descriptor that can be awaited, each time it is awaken by the worker, a new async task is registered in the event loop to progress the worker and rearm the worker when completed;\n",
    "1. Non-blocking (enabled by setting the `UCXPY_NON_BLOCKING_MODE=1` environment variable): an async task is registered in the event loop to progress the worker and re-register itself, upon eah event loop iteration the worker will be progressed whether there is work to progress or not.\n",
    "\n",
    "In this example the UCX Tag API is used, `ep.send()` is an interface for `ucp_tag_send_nb`, and `ep.recv` is an interface for `ucp_tag_recv_nb`. Tags are assigned automatically between the client and listener during endpoint establishment, it is possible to override the pre-established Tag with `tag` and `force_tag` arguments from `ep.send()`/`ep.recv()`."
   ]
  },
  {
   "cell_type": "markdown",
   "id": "2c26b2d0-a07e-480a-a21c-bb33630e4726",
   "metadata": {},
   "source": [
    "## Import Dependencies\n",
    "\n",
    "1. `asyncio`: Python's asynchronous I/O library\n",
    "1. `ucp`: Asynchronous UCX-Py interface for UCX\n",
    "1. `numpy`: NumPy library providing fundamental scientific computing for Python\n",
    "    1. `cupy`: CuPy is a CUDA-enabled implementation of the NumPy API, replacing `numpy` by `cupy` will use CUDA-based arrays that will be transferred via optimal hardware interconnetcs when available, such as NVLink (CUDA IPC) or InfiniBand (GPUDirectRDMA)"
   ]
  },
  {
   "cell_type": "code",
   "execution_count": 1,
   "id": "26867d90-7fe6-4b9a-acbf-0f96c858003c",
   "metadata": {},
   "outputs": [],
   "source": [
    "import asyncio\n",
    "import ucp\n",
    "import numpy as np"
   ]
  },
  {
   "cell_type": "markdown",
   "id": "034254fd-26de-4b19-a873-6ab7b43fdc00",
   "metadata": {},
   "source": [
    "## Listener (aka, server)"
   ]
  },
  {
   "cell_type": "markdown",
   "id": "7799236d-fbfe-4d00-b8f9-130032a48c74",
   "metadata": {},
   "source": [
    "### Define listener port\n",
    "\n",
    "The port `ListenerPort` where the listener will bind to, subsequently used by the client to connect."
   ]
  },
  {
   "cell_type": "code",
   "execution_count": 2,
   "id": "3a6b20f8-bac6-434e-8aa5-6992eff76eb9",
   "metadata": {},
   "outputs": [],
   "source": [
    "ListenerPort = 12345"
   ]
  },
  {
   "cell_type": "markdown",
   "id": "afe0a75d-845c-4fe4-9cbb-c8ad029684d9",
   "metadata": {},
   "source": [
    "### Define a listener callback\n",
    "\n",
    "In this example the callback `listener_callback` will execute the following operations:\n",
    "\n",
    "1. Allocate single-element NumPy 64-bit unsigned integer array\n",
    "1. Receive message `msg_size` containing the message size `N` (in bytes)\n",
    "1. Allocate NumPy 8-bit unsigned integer array of `N` elements (i.e., bytes)\n",
    "1. Receive message `msg` containing the data\n",
    "1. Print message received\n",
    "1. Increment all elements of the receive message storing as NumPy array `reply`\n",
    "1. Send `reply` back to client\n",
    "\n",
    "To finalize, the content of the received NumPy array will be printed."
   ]
  },
  {
   "cell_type": "code",
   "execution_count": 3,
   "id": "1f1de580-9769-49c5-a0b8-ca90acaa23f7",
   "metadata": {},
   "outputs": [],
   "source": [
    "async def listener_callback(ep):\n",
    "    msg_size = np.empty(1, dtype=np.uint64)\n",
    "    await ep.recv(msg_size)\n",
    "    \n",
    "    msg = np.empty(int(msg_size[0]), dtype=\"u1\")\n",
    "    await ep.recv(msg)\n",
    "    \n",
    "    print(f\"Listener received {msg_size[0]} bytes: {msg}\")\n",
    "    \n",
    "    reply = msg + 1\n",
    "    await ep.send(reply)"
   ]
  },
  {
   "cell_type": "markdown",
   "id": "93fcf7a2-4c2d-418d-90a5-b01a4e63b354",
   "metadata": {},
   "source": [
    "### Create Listener\n",
    "\n",
    "Create a UCX-Py listener, which will bind to port `ListenerPort` and call the `listener_callback` callback for each new incoming client connection"
   ]
  },
  {
   "cell_type": "code",
   "execution_count": 4,
   "id": "3a3e036c-7748-4c60-8f62-028ba00a63a8",
   "metadata": {},
   "outputs": [],
   "source": [
    "listener = ucp.create_listener(listener_callback, ListenerPort)"
   ]
  },
  {
   "cell_type": "markdown",
   "id": "77556ad0-e47e-4ab3-ac9a-6a2c09bc65ff",
   "metadata": {},
   "source": [
    "## Client"
   ]
  },
  {
   "cell_type": "markdown",
   "id": "aa30a269-451f-4966-aadd-8c883ea50fb7",
   "metadata": {},
   "source": [
    "### Create Client Endpoint"
   ]
  },
  {
   "cell_type": "code",
   "execution_count": 5,
   "id": "a3ab3785-88e3-4818-99e1-a2f1dda42375",
   "metadata": {},
   "outputs": [],
   "source": [
    "host = ucp.get_address(ifname='enp1s0f0')  # ethernet device name\n",
    "ep = await ucp.create_endpoint(host, ListenerPort)"
   ]
  },
  {
   "cell_type": "markdown",
   "id": "98d39f63-ed39-4ebc-9b0f-da6c6d8b7041",
   "metadata": {},
   "source": [
    "### Exchange messages\n",
    "\n",
    "1. Allocate NumPy 8-bit unsigned integer array `msg` of `N` elements (i.e., bytes) populated with 0s\n",
    "1. Allocate unpopulated NumPy 8-bit unsigned integer array `reply` of `N` elements (i.e., bytes)\n",
    "1. Allocate single-element NumPy 64-bit unsigned integer array populated with the message to send/receive size `N` (in bytes)\n",
    "1. Send message `msg_size` containing the message size `N` (in bytes)\n",
    "1. Send message `msg` containing the data\n",
    "1. Receive `reply` back from listener\n",
    "1. Print message received\n",
    "1. Assert `reply` result is correct: `reply == (msg + 1)`"
   ]
  },
  {
   "cell_type": "code",
   "execution_count": 6,
   "id": "a17afe7a-2f37-4658-9532-b98a9e1e2172",
   "metadata": {},
   "outputs": [
    {
     "name": "stdout",
     "output_type": "stream",
     "text": [
      "Listener received 1000000000 bytes: [0 0 0 ... 0 0 0]\n",
      "Client received 1000000000 bytes: [1 1 1 ... 1 1 1]\n"
     ]
    }
   ],
   "source": [
    "n_bytes = 10**9\n",
    "\n",
    "msg = np.zeros(n_bytes, dtype='u1')\n",
    "reply = np.empty(n_bytes, dtype='u1')\n",
    "msg_size = np.array([msg.nbytes], dtype=np.uint64)\n",
    "\n",
    "await ep.send(msg_size)\n",
    "await ep.send(msg)\n",
    "\n",
    "await ep.recv(reply)\n",
    "\n",
    "print(f\"Client received {msg_size[0]} bytes: {reply}\")\n",
    "\n",
    "np.testing.assert_array_equal(reply, msg + 1)"
   ]
  },
  {
   "cell_type": "markdown",
   "id": "f1962272-7b39-4ca9-b156-0148f32fc652",
   "metadata": {},
   "source": [
    "## Close Listener\n",
    "\n",
    "Explicitly close the listener, otherwise closed when it goes out-of-scope. The endpoint has already been closed, since the `listener_callback` terminates the connection when the callback returns."
   ]
  },
  {
   "cell_type": "code",
   "execution_count": 7,
   "id": "d27e1fde-3158-4409-a96a-56407ea8c6a7",
   "metadata": {},
   "outputs": [],
   "source": [
    "listener.close()"
   ]
  }
 ],
 "metadata": {
  "kernelspec": {
   "display_name": "Python 3 (ipykernel)",
   "language": "python",
   "name": "python3"
  },
  "language_info": {
   "codemirror_mode": {
    "name": "ipython",
    "version": 3
   },
   "file_extension": ".py",
   "mimetype": "text/x-python",
   "name": "python",
   "nbconvert_exporter": "python",
   "pygments_lexer": "ipython3",
   "version": "3.8.13"
  }
 },
 "nbformat": 4,
 "nbformat_minor": 5
}
